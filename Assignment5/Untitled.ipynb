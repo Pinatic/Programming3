{
 "cells": [
  {
   "cell_type": "code",
   "execution_count": 1,
   "id": "c6b355c6",
   "metadata": {},
   "outputs": [],
   "source": [
    "import pandas as pd\n"
   ]
  },
  {
   "cell_type": "code",
   "execution_count": 2,
   "id": "eedd2f40",
   "metadata": {},
   "outputs": [
    {
     "name": "stdout",
     "output_type": "stream",
     "text": [
      "   Question                                             Answer  \\\n",
      "0         1                                               9703   \n",
      "1         2                                 198.06420694630526   \n",
      "2         3                                         GO:2001070   \n",
      "3         4                                  311.5315754307403   \n",
      "4         5  ['IPR027417', 'IPR002347', 'IPR003439', 'IPR03...   \n",
      "5         6  ['IPR027417', 'IPR036259', 'IPR036388', 'IPR03...   \n",
      "6         7  ['domain', 'superfamily', 'protein', 'C-termin...   \n",
      "7         8  ['HigB-like', 'DUF3463', 'UCP020893', 'ECF-lik...   \n",
      "8         9  ['hydrolase', 'superfamily', 'P-loop', 'nucleo...   \n",
      "9        10                                0.31961294035697624   \n",
      "\n",
      "                                             Explain  \n",
      "0  == Parsed Logical Plan ==\\nDeduplicate [_c11#2...  \n",
      "1  == Parsed Logical Plan ==\\nDeduplicate [_c11#2...  \n",
      "2  == Parsed Logical Plan ==\\n'Aggregate ['max(_c...  \n",
      "3  == Parsed Logical Plan ==\\n'Aggregate ['avg(ab...  \n",
      "4  == Parsed Logical Plan ==\\n'Aggregate ['_c11],...  \n",
      "5  DataFrame[_c0: string, _c1: string, _c2: strin...  \n",
      "6  == Parsed Logical Plan ==\\n'Sort ['count DESC ...  \n",
      "7  == Parsed Logical Plan ==\\n'Sort ['count ASC N...  \n",
      "8  == Parsed Logical Plan ==\\n'Sort ['count DESC ...  \n",
      "9  == Parsed Logical Plan ==\\n'Aggregate [_c0#17,...  \n"
     ]
    }
   ],
   "source": [
    "df = pd.read_csv(\"assignment5.csv\")\n",
    "print(df)"
   ]
  },
  {
   "cell_type": "code",
   "execution_count": 3,
   "id": "e30701e4",
   "metadata": {},
   "outputs": [
    {
     "name": "stdout",
     "output_type": "stream",
     "text": [
      "<class 'pandas.core.frame.DataFrame'>\n",
      "RangeIndex: 10 entries, 0 to 9\n",
      "Data columns (total 3 columns):\n",
      " #   Column    Non-Null Count  Dtype \n",
      "---  ------    --------------  ----- \n",
      " 0   Question  10 non-null     int64 \n",
      " 1   Answer    10 non-null     object\n",
      " 2   Explain   10 non-null     object\n",
      "dtypes: int64(1), object(2)\n",
      "memory usage: 368.0+ bytes\n"
     ]
    }
   ],
   "source": [
    "df.info()"
   ]
  },
  {
   "cell_type": "code",
   "execution_count": 6,
   "id": "8b71ae0e",
   "metadata": {},
   "outputs": [
    {
     "data": {
      "text/plain": [
       "0     1\n",
       "1     2\n",
       "2     3\n",
       "3     4\n",
       "4     5\n",
       "5     6\n",
       "6     7\n",
       "7     8\n",
       "8     9\n",
       "9    10\n",
       "Name: Question, dtype: int64"
      ]
     },
     "execution_count": 6,
     "metadata": {},
     "output_type": "execute_result"
    }
   ],
   "source": [
    "df[\"Question\"]"
   ]
  },
  {
   "cell_type": "code",
   "execution_count": 7,
   "id": "2bbd146e",
   "metadata": {},
   "outputs": [
    {
     "data": {
      "text/plain": [
       "0                                                 9703\n",
       "1                                   198.06420694630526\n",
       "2                                           GO:2001070\n",
       "3                                    311.5315754307403\n",
       "4    ['IPR027417', 'IPR002347', 'IPR003439', 'IPR03...\n",
       "5    ['IPR027417', 'IPR036259', 'IPR036388', 'IPR03...\n",
       "6    ['domain', 'superfamily', 'protein', 'C-termin...\n",
       "7    ['HigB-like', 'DUF3463', 'UCP020893', 'ECF-lik...\n",
       "8    ['hydrolase', 'superfamily', 'P-loop', 'nucleo...\n",
       "9                                  0.31961294035697624\n",
       "Name: Answer, dtype: object"
      ]
     },
     "execution_count": 7,
     "metadata": {},
     "output_type": "execute_result"
    }
   ],
   "source": [
    "df[\"Answer\"]"
   ]
  },
  {
   "cell_type": "code",
   "execution_count": 8,
   "id": "b129f00c",
   "metadata": {},
   "outputs": [
    {
     "data": {
      "text/plain": [
       "0    == Parsed Logical Plan ==\\nDeduplicate [_c11#2...\n",
       "1    == Parsed Logical Plan ==\\nDeduplicate [_c11#2...\n",
       "2    == Parsed Logical Plan ==\\n'Aggregate ['max(_c...\n",
       "3    == Parsed Logical Plan ==\\n'Aggregate ['avg(ab...\n",
       "4    == Parsed Logical Plan ==\\n'Aggregate ['_c11],...\n",
       "5    DataFrame[_c0: string, _c1: string, _c2: strin...\n",
       "6    == Parsed Logical Plan ==\\n'Sort ['count DESC ...\n",
       "7    == Parsed Logical Plan ==\\n'Sort ['count ASC N...\n",
       "8    == Parsed Logical Plan ==\\n'Sort ['count DESC ...\n",
       "9    == Parsed Logical Plan ==\\n'Aggregate [_c0#17,...\n",
       "Name: Explain, dtype: object"
      ]
     },
     "execution_count": 8,
     "metadata": {},
     "output_type": "execute_result"
    }
   ],
   "source": [
    "df[\"Explain\"][5]"
   ]
  },
  {
   "cell_type": "code",
   "execution_count": null,
   "id": "20871ef8",
   "metadata": {},
   "outputs": [],
   "source": []
  }
 ],
 "metadata": {
  "kernelspec": {
   "display_name": "Python 3 (ipykernel)",
   "language": "python",
   "name": "python3"
  },
  "language_info": {
   "codemirror_mode": {
    "name": "ipython",
    "version": 3
   },
   "file_extension": ".py",
   "mimetype": "text/x-python",
   "name": "python",
   "nbconvert_exporter": "python",
   "pygments_lexer": "ipython3",
   "version": "3.9.7"
  }
 },
 "nbformat": 4,
 "nbformat_minor": 5
}
