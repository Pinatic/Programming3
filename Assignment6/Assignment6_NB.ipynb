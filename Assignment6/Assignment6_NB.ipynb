{
 "cells": [
  {
   "cell_type": "markdown",
   "id": "df5df833",
   "metadata": {},
   "source": [
    "# Assignment 6\n",
    "## Project 1\n",
    "The first project you can choose is a continuation of the InterPROscan dataset you worked on for Assignment 5. You now know the structure and type of data that is involved. What I would ike you to do is to develop scikit-learn machine learning models to predict the function of the proteins in the dataset. I'm not going to mandate any particular model, but you should use your knowledge from DS3 to determine good candidate methods and try a couple, and report on yourGiven the size of the data, you should train your machine models in parallel! Dask is an obvious candidate for this, but you can also use any of the other frameworks we discussed in the course.\n",
    "\n",
    "The \"function\" of the protein which is the \"class\" your model should predict is defined as the InterPRO number which covers:\n",
    "\n",
    "1. more than 90% of the protein's sequence\n",
    "2. Covers the largest length of the sequence\n",
    "\n",
    "The \"features\" that you use to predict that class are the other, smaller, InterPRO annotations. Take care to remove \"noise\" from the dataset, ie. lines from the TSV file which don't contain InterPRO numbers, proteins which don't have a large feature (according to the criteria above) etc. Be sure to note in your report how you processed the data and why you made the choices you did!\n",
    "\n",
    "Your script should, given one or more of these TSV files with InterPROscan annotations, produce models (Pickle them to save them!) which predict protein function, and a file of training-data on which you trained them.\n"
   ]
  },
  {
   "cell_type": "code",
   "execution_count": null,
   "id": "68f8ff4a",
   "metadata": {},
   "outputs": [],
   "source": [
    "import pandas as pd\n",
    "import numpy as np\n",
    "import matplotlib.pyplot as plt\n"
   ]
  },
  {
   "cell_type": "code",
   "execution_count": null,
   "id": "735087d7",
   "metadata": {},
   "outputs": [],
   "source": [
    "#path = \"/data/dataprocessing/interproscan/all_bacilli.tsv\"\n"
   ]
  }
 ],
 "metadata": {
  "kernelspec": {
   "display_name": "Python 3 (ipykernel)",
   "language": "python",
   "name": "python3"
  },
  "language_info": {
   "codemirror_mode": {
    "name": "ipython",
    "version": 3
   },
   "file_extension": ".py",
   "mimetype": "text/x-python",
   "name": "python",
   "nbconvert_exporter": "python",
   "pygments_lexer": "ipython3",
   "version": "3.9.7"
  }
 },
 "nbformat": 4,
 "nbformat_minor": 5
}
